{
  "cells": [
    {
      "cell_type": "markdown",
      "metadata": {
        "id": "8gp9xFD08Bsb"
      },
      "source": [
        "![enter image description here](https://img.shields.io/badge/Author-Nestor_Batista_Díaz-yellow)"
      ]
    },
    {
      "cell_type": "code",
      "execution_count": 4,
      "metadata": {
        "colab": {
          "base_uri": "https://localhost:8080/",
          "height": 423
        },
        "id": "wMobwAb6aQic",
        "outputId": "d2eaddb0-15de-4065-f6ef-44ef4f904200"
      },
      "outputs": [
        {
          "data": {
            "text/html": [
              "<div>\n",
              "<style scoped>\n",
              "    .dataframe tbody tr th:only-of-type {\n",
              "        vertical-align: middle;\n",
              "    }\n",
              "\n",
              "    .dataframe tbody tr th {\n",
              "        vertical-align: top;\n",
              "    }\n",
              "\n",
              "    .dataframe thead th {\n",
              "        text-align: right;\n",
              "    }\n",
              "</style>\n",
              "<table border=\"1\" class=\"dataframe\">\n",
              "  <thead>\n",
              "    <tr style=\"text-align: right;\">\n",
              "      <th></th>\n",
              "      <th>sepal_length</th>\n",
              "      <th>sepal_width</th>\n",
              "      <th>petal_length</th>\n",
              "      <th>petal_width</th>\n",
              "      <th>species</th>\n",
              "    </tr>\n",
              "  </thead>\n",
              "  <tbody>\n",
              "    <tr>\n",
              "      <th>0</th>\n",
              "      <td>5.1</td>\n",
              "      <td>3.5</td>\n",
              "      <td>1.4</td>\n",
              "      <td>0.2</td>\n",
              "      <td>setosa</td>\n",
              "    </tr>\n",
              "    <tr>\n",
              "      <th>1</th>\n",
              "      <td>4.9</td>\n",
              "      <td>3.0</td>\n",
              "      <td>1.4</td>\n",
              "      <td>0.2</td>\n",
              "      <td>setosa</td>\n",
              "    </tr>\n",
              "    <tr>\n",
              "      <th>2</th>\n",
              "      <td>4.7</td>\n",
              "      <td>3.2</td>\n",
              "      <td>1.3</td>\n",
              "      <td>0.2</td>\n",
              "      <td>setosa</td>\n",
              "    </tr>\n",
              "    <tr>\n",
              "      <th>3</th>\n",
              "      <td>4.6</td>\n",
              "      <td>3.1</td>\n",
              "      <td>1.5</td>\n",
              "      <td>0.2</td>\n",
              "      <td>setosa</td>\n",
              "    </tr>\n",
              "    <tr>\n",
              "      <th>4</th>\n",
              "      <td>5.0</td>\n",
              "      <td>3.6</td>\n",
              "      <td>1.4</td>\n",
              "      <td>0.2</td>\n",
              "      <td>setosa</td>\n",
              "    </tr>\n",
              "    <tr>\n",
              "      <th>...</th>\n",
              "      <td>...</td>\n",
              "      <td>...</td>\n",
              "      <td>...</td>\n",
              "      <td>...</td>\n",
              "      <td>...</td>\n",
              "    </tr>\n",
              "    <tr>\n",
              "      <th>145</th>\n",
              "      <td>6.7</td>\n",
              "      <td>3.0</td>\n",
              "      <td>5.2</td>\n",
              "      <td>2.3</td>\n",
              "      <td>virginica</td>\n",
              "    </tr>\n",
              "    <tr>\n",
              "      <th>146</th>\n",
              "      <td>6.3</td>\n",
              "      <td>2.5</td>\n",
              "      <td>5.0</td>\n",
              "      <td>1.9</td>\n",
              "      <td>virginica</td>\n",
              "    </tr>\n",
              "    <tr>\n",
              "      <th>147</th>\n",
              "      <td>6.5</td>\n",
              "      <td>3.0</td>\n",
              "      <td>5.2</td>\n",
              "      <td>2.0</td>\n",
              "      <td>virginica</td>\n",
              "    </tr>\n",
              "    <tr>\n",
              "      <th>148</th>\n",
              "      <td>6.2</td>\n",
              "      <td>3.4</td>\n",
              "      <td>5.4</td>\n",
              "      <td>2.3</td>\n",
              "      <td>virginica</td>\n",
              "    </tr>\n",
              "    <tr>\n",
              "      <th>149</th>\n",
              "      <td>5.9</td>\n",
              "      <td>3.0</td>\n",
              "      <td>5.1</td>\n",
              "      <td>1.8</td>\n",
              "      <td>virginica</td>\n",
              "    </tr>\n",
              "  </tbody>\n",
              "</table>\n",
              "<p>150 rows × 5 columns</p>\n",
              "</div>"
            ],
            "text/plain": [
              "     sepal_length  sepal_width  petal_length  petal_width    species\n",
              "0             5.1          3.5           1.4          0.2     setosa\n",
              "1             4.9          3.0           1.4          0.2     setosa\n",
              "2             4.7          3.2           1.3          0.2     setosa\n",
              "3             4.6          3.1           1.5          0.2     setosa\n",
              "4             5.0          3.6           1.4          0.2     setosa\n",
              "..            ...          ...           ...          ...        ...\n",
              "145           6.7          3.0           5.2          2.3  virginica\n",
              "146           6.3          2.5           5.0          1.9  virginica\n",
              "147           6.5          3.0           5.2          2.0  virginica\n",
              "148           6.2          3.4           5.4          2.3  virginica\n",
              "149           5.9          3.0           5.1          1.8  virginica\n",
              "\n",
              "[150 rows x 5 columns]"
            ]
          },
          "execution_count": 4,
          "metadata": {},
          "output_type": "execute_result"
        }
      ],
      "source": [
        "# importación de datos\n",
        "import seaborn as sns\n",
        "iris = sns.load_dataset('iris')\n",
        "iris"
      ]
    },
    {
      "cell_type": "code",
      "execution_count": 5,
      "metadata": {
        "id": "tbc--T96UHc-"
      },
      "outputs": [],
      "source": [
        "\n",
        "# separamos datos de entrada y salida\n",
        "X_iris = iris.drop('species', axis=1)\n",
        "y_iris = iris['species']\n",
        "# separamos train y test\n",
        "from sklearn.model_selection import train_test_split\n",
        "Xtrain, Xtest, ytrain, ytest = train_test_split(X_iris, y_iris, test_size=0.33, random_state=1)\n"
      ]
    },
    {
      "cell_type": "code",
      "execution_count": 8,
      "metadata": {
        "colab": {
          "base_uri": "https://localhost:8080/",
          "height": 74
        },
        "id": "mG4o17XTUNOD",
        "outputId": "e486f06a-b780-4b26-8397-8648bf62b8d7"
      },
      "outputs": [
        {
          "name": "stdout",
          "output_type": "stream",
          "text": [
            "Modelo: GaussianNB = 0.94\n",
            "Modelo: MultiNomialNB = 0.64\n",
            "Modelo: BernouilliNB = 0.28\n",
            "Modelo: ComplementNB = 0.62\n",
            "Modelo: CategoricalNB = 0.98\n"
          ]
        }
      ],
      "source": [
        "from sklearn.naive_bayes import GaussianNB, MultinomialNB, BernoulliNB, ComplementNB, CategoricalNB\n",
        "from sklearn.metrics import accuracy_score\n",
        "\n",
        "# classifiers\n",
        "names = [\"GaussianNB\", \"MultiNomialNB\", 'BernouilliNB', 'ComplementNB', 'CategoricalNB']\n",
        "classifiers = [GaussianNB(), MultinomialNB(), BernoulliNB(), ComplementNB(), CategoricalNB()]\n",
        "\n",
        "for name, clf in zip(names, classifiers):\n",
        "\n",
        "  # FIT THE MODEL\n",
        "  clf.fit(Xtrain, ytrain)\n",
        "  # PREDIT AND SCORE\n",
        "  y_model = clf.predict(Xtest)\n",
        "  print (\"Modelo: %s = %2.2f\" % (name, accuracy_score(ytest, y_model)))"
      ]
    },
    {
      "cell_type": "code",
      "execution_count": 10,
      "metadata": {},
      "outputs": [
        {
          "name": "stdout",
          "output_type": "stream",
          "text": [
            "Modelo: GaussianNB = 0.95\n",
            "Modelo: MultiNomialNB = 0.85\n",
            "Modelo: BernouilliNB = 0.24\n",
            "Modelo: ComplementNB = 0.67\n",
            "Modelo: CategoricalNB = 0.93\n"
          ]
        }
      ],
      "source": [
        "# Añadido por Salvador para comparar la precisión obtenida con el método score, de la celda anterior,\n",
        "# cuando se utiliza cross validation\n",
        "\n",
        "from sklearn.model_selection import KFold\n",
        "cv = KFold(n_splits = 5, shuffle = True) # shuffle = False si hay dimensión temporal\n",
        "total_scores = []\n",
        "for name, clf in zip(names, classifiers):\n",
        "  fold_accuracy = []\n",
        "  for train_fold, test_fold in cv.split(X_iris):\n",
        "    # División train test aleatoria\n",
        "    f_train_x = X_iris.iloc[train_fold]           # Extrae la información (iloc), atendiendo a los indices obtenidos por CrossValidation\n",
        "    f_train_y = y_iris.iloc[train_fold]\n",
        "    # entrenamiento y ejeución del modelo\n",
        "    clf.fit(f_train_x, f_train_y)\n",
        "    # Realizamos la predicción (Final evaluation) y guardamos la precisión para calcular la media posteriormente\n",
        "    y_pred = clf.predict(X_iris.iloc[test_fold])\n",
        "    # evaluación del modelo\n",
        "    acc = accuracy_score(y_iris.iloc[test_fold], y_pred)\n",
        "    fold_accuracy.append(acc)\n",
        "  total_scores.append(sum(fold_accuracy)/len(fold_accuracy))\n",
        "\n",
        "for i in range(len(names)):\n",
        "  print (\"Modelo: %s = %2.2f\" % (names[i], total_scores[i]))"
      ]
    }
  ],
  "metadata": {
    "colab": {
      "provenance": []
    },
    "kernelspec": {
      "display_name": "Python 3.9.1 64-bit",
      "language": "python",
      "name": "python3"
    },
    "language_info": {
      "codemirror_mode": {
        "name": "ipython",
        "version": 3
      },
      "file_extension": ".py",
      "mimetype": "text/x-python",
      "name": "python",
      "nbconvert_exporter": "python",
      "pygments_lexer": "ipython3",
      "version": "3.11.5"
    },
    "vscode": {
      "interpreter": {
        "hash": "478e2cd68cfde0d7d963116f2e3fda36a31599ecb465db3b2b23bd69b67e91d9"
      }
    }
  },
  "nbformat": 4,
  "nbformat_minor": 0
}
